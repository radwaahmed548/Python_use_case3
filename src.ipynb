{
 "cells": [
  {
   "cell_type": "code",
   "execution_count": 1,
   "metadata": {},
   "outputs": [
    {
     "name": "stdout",
     "output_type": "stream",
     "text": [
      "Defaulting to user installation because normal site-packages is not writeableNote: you may need to restart the kernel to use updated packages.\n",
      "\n",
      "Requirement already satisfied: pyodbc in c:\\users\\radwa.abdallah\\appdata\\roaming\\python\\python312\\site-packages (5.1.0)\n"
     ]
    }
   ],
   "source": []
  },
  {
   "cell_type": "code",
   "execution_count": 8,
   "metadata": {},
   "outputs": [
    {
     "ename": "SyntaxError",
     "evalue": "invalid syntax (3798253663.py, line 1)",
     "output_type": "error",
     "traceback": [
      "\u001b[1;36m  Cell \u001b[1;32mIn[8], line 1\u001b[1;36m\u001b[0m\n\u001b[1;33m    pip install polars\u001b[0m\n\u001b[1;37m        ^\u001b[0m\n\u001b[1;31mSyntaxError\u001b[0m\u001b[1;31m:\u001b[0m invalid syntax\n"
     ]
    }
   ],
   "source": [
    "pip install polars \n",
    "pip install flask_sqlalchemy\n",
    "from flask_sqlalchemy import SQLAlchemy\n",
    "pip install pyodbc\n",
    "import os\n",
    "\n",
    "pip install pyarrow\n"
   ]
  },
  {
   "cell_type": "code",
   "execution_count": 4,
   "metadata": {},
   "outputs": [
    {
     "name": "stderr",
     "output_type": "stream",
     "text": [
      "C:\\Users\\Radwa.Abdallah\\AppData\\Local\\Temp\\ipykernel_17820\\420390661.py:13: DeprecationWarning: `apply` is deprecated. It has been renamed to `map_rows`.\n",
      "  df_pl.apply(\n"
     ]
    },
    {
     "data": {
      "text/html": [
       "<div><style>\n",
       ".dataframe > thead > tr,\n",
       ".dataframe > tbody > tr {\n",
       "  text-align: right;\n",
       "  white-space: pre-wrap;\n",
       "}\n",
       "</style>\n",
       "<small>shape: (101, 1)</small><table border=\"1\" class=\"dataframe\"><thead><tr><th>map</th></tr><tr><td>str</td></tr></thead><tbody><tr><td>&quot;first first&quot;</td></tr><tr><td>&quot;Jorge Jorge&quot;</td></tr><tr><td>&quot;Hunter Hunter&quot;</td></tr><tr><td>&quot;Esther Esther&quot;</td></tr><tr><td>&quot;Dennis Dennis&quot;</td></tr><tr><td>&hellip;</td></tr><tr><td>&quot;Brett Brett&quot;</td></tr><tr><td>&quot;Adelaide Adela…</td></tr><tr><td>&quot;Leo Leo&quot;</td></tr><tr><td>&quot;Samuel Samuel&quot;</td></tr><tr><td>&quot;Elizabeth Eliz…</td></tr></tbody></table></div>"
      ],
      "text/plain": [
       "shape: (101, 1)\n",
       "┌─────────────────────┐\n",
       "│ map                 │\n",
       "│ ---                 │\n",
       "│ str                 │\n",
       "╞═════════════════════╡\n",
       "│ first first         │\n",
       "│ Jorge Jorge         │\n",
       "│ Hunter Hunter       │\n",
       "│ Esther Esther       │\n",
       "│ Dennis Dennis       │\n",
       "│ …                   │\n",
       "│ Brett Brett         │\n",
       "│ Adelaide Adelaide   │\n",
       "│ Leo Leo             │\n",
       "│ Samuel Samuel       │\n",
       "│ Elizabeth Elizabeth │\n",
       "└─────────────────────┘"
      ]
     },
     "execution_count": 4,
     "metadata": {},
     "output_type": "execute_result"
    }
   ],
   "source": [
    "import polars as pl\n",
    "df_pl=pl.read_parquet(r'D:\\projects\\use_case_3\\data\\sample1.parquet')\n",
    "# df_pl.filter(\n",
    "#     pl.col('column0') == 'Jorge'\n",
    "# ).select('column1')\n",
    "# df_pl.select(\n",
    "#     pl.col('column0').is_null().all()\n",
    "# )\n",
    "\n",
    "\n",
    "df_pl.apply\n",
    "\n",
    "df_pl.apply(\n",
    "     lambda row: f\"{row[0]} {row[0]}\"\n",
    " )"
   ]
  },
  {
   "cell_type": "code",
   "execution_count": 6,
   "metadata": {},
   "outputs": [
    {
     "data": {
      "text/html": [
       "<div><style>\n",
       ".dataframe > thead > tr,\n",
       ".dataframe > tbody > tr {\n",
       "  text-align: right;\n",
       "  white-space: pre-wrap;\n",
       "}\n",
       "</style>\n",
       "<small>shape: (101, 2)</small><table border=\"1\" class=\"dataframe\"><thead><tr><th>column0</th><th>column1</th></tr><tr><td>str</td><td>str</td></tr></thead><tbody><tr><td>&quot;first&quot;</td><td>&quot; last&quot;</td></tr><tr><td>&quot;Jorge&quot;</td><td>&quot;Frank&quot;</td></tr><tr><td>&quot;Hunter&quot;</td><td>&quot;Moreno&quot;</td></tr><tr><td>&quot;Esther&quot;</td><td>&quot;Guzman&quot;</td></tr><tr><td>&quot;Dennis&quot;</td><td>&quot;Stephens&quot;</td></tr><tr><td>&hellip;</td><td>&hellip;</td></tr><tr><td>&quot;Brett&quot;</td><td>&quot;Miller&quot;</td></tr><tr><td>&quot;Adelaide&quot;</td><td>&quot;Phelps&quot;</td></tr><tr><td>&quot;Leo&quot;</td><td>&quot;Walters&quot;</td></tr><tr><td>&quot;Samuel&quot;</td><td>&quot;Schmidt&quot;</td></tr><tr><td>&quot;Elizabeth&quot;</td><td>&quot;Gordon&quot;</td></tr></tbody></table></div>"
      ],
      "text/plain": [
       "shape: (101, 2)\n",
       "┌───────────┬──────────┐\n",
       "│ column0   ┆ column1  │\n",
       "│ ---       ┆ ---      │\n",
       "│ str       ┆ str      │\n",
       "╞═══════════╪══════════╡\n",
       "│ first     ┆  last    │\n",
       "│ Jorge     ┆ Frank    │\n",
       "│ Hunter    ┆ Moreno   │\n",
       "│ Esther    ┆ Guzman   │\n",
       "│ Dennis    ┆ Stephens │\n",
       "│ …         ┆ …        │\n",
       "│ Brett     ┆ Miller   │\n",
       "│ Adelaide  ┆ Phelps   │\n",
       "│ Leo       ┆ Walters  │\n",
       "│ Samuel    ┆ Schmidt  │\n",
       "│ Elizabeth ┆ Gordon   │\n",
       "└───────────┴──────────┘"
      ]
     },
     "execution_count": 6,
     "metadata": {},
     "output_type": "execute_result"
    }
   ],
   "source": [
    "\n",
    "df_pl"
   ]
  },
  {
   "cell_type": "code",
   "execution_count": 8,
   "metadata": {},
   "outputs": [],
   "source": [
    "from sqlalchemy import create_engine\n",
    "server = 'BI-R-ABDALLAH'\n",
    "database = 'MY_DATABASE'\n",
    "username = 'sa'\n",
    "password = 'P@ssw0rd@radwa'\n",
    "driver = 'SQL Server'\n",
    "conn_str = f'DRIVER={{{driver}}};SERVER={server};DATABASE={database};UID={username};PWD={password}'\n",
    "\n",
    "engine_base = create_engine(f\"mssql+pyodbc:///?odbc_connect={conn_str}\", use_setinputsizes=False)"
   ]
  },
  {
   "cell_type": "code",
   "execution_count": 12,
   "metadata": {},
   "outputs": [
    {
     "ename": "ValueError",
     "evalue": "engine Engine(mssql+pyodbc:///?odbc_connect=DRIVER%3D%7BSQL+Server%7D%3BSERVER%3DBI-R-ABDALLAH%3BDATABASE%3DMY_DATABASE%3BUID%3Dsa%3BPWD%3DP%40ssw0rd%40radwa) is not supported",
     "output_type": "error",
     "traceback": [
      "\u001b[1;31m---------------------------------------------------------------------------\u001b[0m",
      "\u001b[1;31mValueError\u001b[0m                                Traceback (most recent call last)",
      "Cell \u001b[1;32mIn[12], line 1\u001b[0m\n\u001b[1;32m----> 1\u001b[0m \u001b[43mdf_pl\u001b[49m\u001b[38;5;241;43m.\u001b[39;49m\u001b[43mwrite_database\u001b[49m\u001b[43m(\u001b[49m\n\u001b[0;32m      2\u001b[0m \u001b[43m    \u001b[49m\u001b[43mtable_name\u001b[49m\u001b[38;5;241;43m=\u001b[39;49m\u001b[38;5;124;43m'\u001b[39;49m\u001b[38;5;124;43mAll_NAME\u001b[39;49m\u001b[38;5;124;43m'\u001b[39;49m\u001b[43m,\u001b[49m\n\u001b[0;32m      3\u001b[0m \u001b[43m    \u001b[49m\u001b[43mconnection\u001b[49m\u001b[38;5;241;43m=\u001b[39;49m\u001b[38;5;124;43m\"\u001b[39;49m\u001b[38;5;124;43mmssql+pyodbc:///?odbc_connect=\u001b[39;49m\u001b[38;5;132;43;01m{conn_str}\u001b[39;49;00m\u001b[38;5;124;43m\"\u001b[39;49m\u001b[43m,\u001b[49m\n\u001b[0;32m      4\u001b[0m \u001b[43m    \u001b[49m\u001b[43mif_table_exists\u001b[49m\u001b[38;5;241;43m=\u001b[39;49m\u001b[38;5;124;43m'\u001b[39;49m\u001b[38;5;124;43mreplace\u001b[39;49m\u001b[38;5;124;43m'\u001b[39;49m\u001b[43m,\u001b[49m\n\u001b[0;32m      5\u001b[0m \u001b[43m    \u001b[49m\u001b[43mengine\u001b[49m\u001b[38;5;241;43m=\u001b[39;49m\u001b[43m \u001b[49m\u001b[43mcreate_engine\u001b[49m\u001b[43m(\u001b[49m\u001b[38;5;124;43mf\u001b[39;49m\u001b[38;5;124;43m\"\u001b[39;49m\u001b[38;5;124;43mmssql+pyodbc:///?odbc_connect=\u001b[39;49m\u001b[38;5;132;43;01m{\u001b[39;49;00m\u001b[43mconn_str\u001b[49m\u001b[38;5;132;43;01m}\u001b[39;49;00m\u001b[38;5;124;43m\"\u001b[39;49m\u001b[43m,\u001b[49m\u001b[43m \u001b[49m\u001b[43muse_setinputsizes\u001b[49m\u001b[38;5;241;43m=\u001b[39;49m\u001b[38;5;28;43;01mFalse\u001b[39;49;00m\u001b[43m)\u001b[49m\n\u001b[0;32m      6\u001b[0m \u001b[43m)\u001b[49m \n",
      "File \u001b[1;32m~\\AppData\\Roaming\\Python\\Python312\\site-packages\\polars\\utils\\deprecation.py:136\u001b[0m, in \u001b[0;36mdeprecate_renamed_parameter.<locals>.decorate.<locals>.wrapper\u001b[1;34m(*args, **kwargs)\u001b[0m\n\u001b[0;32m    131\u001b[0m \u001b[38;5;129m@wraps\u001b[39m(function)\n\u001b[0;32m    132\u001b[0m \u001b[38;5;28;01mdef\u001b[39;00m \u001b[38;5;21mwrapper\u001b[39m(\u001b[38;5;241m*\u001b[39margs: P\u001b[38;5;241m.\u001b[39margs, \u001b[38;5;241m*\u001b[39m\u001b[38;5;241m*\u001b[39mkwargs: P\u001b[38;5;241m.\u001b[39mkwargs) \u001b[38;5;241m-\u001b[39m\u001b[38;5;241m>\u001b[39m T:\n\u001b[0;32m    133\u001b[0m     _rename_keyword_argument(\n\u001b[0;32m    134\u001b[0m         old_name, new_name, kwargs, function\u001b[38;5;241m.\u001b[39m\u001b[38;5;18m__name__\u001b[39m, version\n\u001b[0;32m    135\u001b[0m     )\n\u001b[1;32m--> 136\u001b[0m     \u001b[38;5;28;01mreturn\u001b[39;00m \u001b[43mfunction\u001b[49m\u001b[43m(\u001b[49m\u001b[38;5;241;43m*\u001b[39;49m\u001b[43margs\u001b[49m\u001b[43m,\u001b[49m\u001b[43m \u001b[49m\u001b[38;5;241;43m*\u001b[39;49m\u001b[38;5;241;43m*\u001b[39;49m\u001b[43mkwargs\u001b[49m\u001b[43m)\u001b[49m\n",
      "File \u001b[1;32m~\\AppData\\Roaming\\Python\\Python312\\site-packages\\polars\\dataframe\\frame.py:3677\u001b[0m, in \u001b[0;36mDataFrame.write_database\u001b[1;34m(self, table_name, connection, if_table_exists, engine)\u001b[0m\n\u001b[0;32m   3675\u001b[0m \u001b[38;5;28;01melse\u001b[39;00m:\n\u001b[0;32m   3676\u001b[0m     msg \u001b[38;5;241m=\u001b[39m \u001b[38;5;124mf\u001b[39m\u001b[38;5;124m\"\u001b[39m\u001b[38;5;124mengine \u001b[39m\u001b[38;5;132;01m{\u001b[39;00mengine\u001b[38;5;132;01m!r}\u001b[39;00m\u001b[38;5;124m is not supported\u001b[39m\u001b[38;5;124m\"\u001b[39m\n\u001b[1;32m-> 3677\u001b[0m     \u001b[38;5;28;01mraise\u001b[39;00m \u001b[38;5;167;01mValueError\u001b[39;00m(msg)\n",
      "\u001b[1;31mValueError\u001b[0m: engine Engine(mssql+pyodbc:///?odbc_connect=DRIVER%3D%7BSQL+Server%7D%3BSERVER%3DBI-R-ABDALLAH%3BDATABASE%3DMY_DATABASE%3BUID%3Dsa%3BPWD%3DP%40ssw0rd%40radwa) is not supported"
     ]
    }
   ],
   "source": [
    "\n",
    "df_pl.write_database(\n",
    "    table_name='All_NAME',\n",
    "    connection=\"mssql+pyodbc:///?odbc_connect={conn_str}\",\n",
    "    if_table_exists='replace',\n",
    "    engine= create_engine(f\"mssql+pyodbc:///?odbc_connect={conn_str}\", use_setinputsizes=False)\n",
    ") \n",
    "\n",
    "\n",
    "\n"
   ]
  }
 ],
 "metadata": {
  "kernelspec": {
   "display_name": "Python 3",
   "language": "python",
   "name": "python3"
  },
  "language_info": {
   "codemirror_mode": {
    "name": "ipython",
    "version": 3
   },
   "file_extension": ".py",
   "mimetype": "text/x-python",
   "name": "python",
   "nbconvert_exporter": "python",
   "pygments_lexer": "ipython3",
   "version": "3.12.2"
  }
 },
 "nbformat": 4,
 "nbformat_minor": 2
}
